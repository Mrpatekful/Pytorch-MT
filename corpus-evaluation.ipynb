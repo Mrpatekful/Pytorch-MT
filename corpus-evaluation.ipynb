{
 "cells": [
  {
   "cell_type": "code",
   "execution_count": null,
   "metadata": {},
   "outputs": [],
   "source": [
    "from src.utils.analysis import create_report"
   ]
  },
  {
   "cell_type": "markdown",
   "metadata": {},
   "source": [
    "# Corpus"
   ]
  },
  {
   "cell_type": "markdown",
   "metadata": {},
   "source": [
    "## English"
   ]
  },
  {
   "cell_type": "markdown",
   "metadata": {},
   "source": [
    "**Tokenized** english data, with full FastText vocab."
   ]
  },
  {
   "cell_type": "code",
   "execution_count": null,
   "metadata": {},
   "outputs": [],
   "source": [
    "create_report(corpora='/media/patrik/1EDB65B8599DD93E/data/eng/ENG_DATA',\n",
    "              vocab='/media/patrik/1EDB65B8599DD93E/data/eng/VOCAB_ENG')"
   ]
  },
  {
   "cell_type": "markdown",
   "metadata": {},
   "source": [
    "**Synchronized** english data with clipped FastText vocab."
   ]
  },
  {
   "cell_type": "code",
   "execution_count": null,
   "metadata": {},
   "outputs": [],
   "source": [
    "create_report(corpora='/media/patrik/1EDB65B8599DD93E/data/test/eng/reduced_data', \n",
    "              vocab='/media/patrik/1EDB65B8599DD93E/data/test/eng/eng_vocab')"
   ]
  },
  {
   "cell_type": "markdown",
   "metadata": {},
   "source": [
    "## French"
   ]
  },
  {
   "cell_type": "markdown",
   "metadata": {},
   "source": [
    "**Tokenized** french data, with full FastText vocab."
   ]
  },
  {
   "cell_type": "code",
   "execution_count": null,
   "metadata": {},
   "outputs": [],
   "source": [
    "create_report(corpora='/media/patrik/1EDB65B8599DD93E/data/fra/FRA_DATA', \n",
    "              vocab='/media/patrik/1EDB65B8599DD93E/data/fra/VOCAB_FRA')"
   ]
  },
  {
   "cell_type": "markdown",
   "metadata": {},
   "source": [
    "**Synchronized** french data, with clipped FastText vocab."
   ]
  },
  {
   "cell_type": "code",
   "execution_count": null,
   "metadata": {},
   "outputs": [],
   "source": [
    "create_report(corpora='/media/patrik/1EDB65B8599DD93E/data/test/fra/reduced_data', \n",
    "              vocab='/media/patrik/1EDB65B8599DD93E/data/test/fra/reduced_align_vocab')"
   ]
  },
  {
   "cell_type": "markdown",
   "metadata": {},
   "source": [
    "# Embeddings"
   ]
  },
  {
   "cell_type": "code",
   "execution_count": null,
   "metadata": {},
   "outputs": [],
   "source": [
    "from src.utils.analysis import create_embedding_analyzer, analyze_embeddings"
   ]
  },
  {
   "cell_type": "code",
   "execution_count": null,
   "metadata": {},
   "outputs": [],
   "source": [
    "vocab_paths = [\n",
    "    '/media/patrik/1EDB65B8599DD93E/data/mapping/vectors-en-sync-valid.txt',\n",
    "    '/media/patrik/1EDB65B8599DD93E/data/mapping/vectors-fr-sync-valid.txt'\n",
    "]\n",
    "\n",
    "create_embedding_analyzer(vocab_paths, save_path='.', dimension=2, analyzer_type='PCA')"
   ]
  },
  {
   "cell_type": "code",
   "execution_count": null,
   "metadata": {
    "scrolled": false
   },
   "outputs": [],
   "source": [
    "vocab_paths = {\n",
    "    'en': '/media/patrik/1EDB65B8599DD93E/data/mapping/vectors-en-sync-valid.txt',\n",
    "    'fr': '/media/patrik/1EDB65B8599DD93E/data/mapping/vectors-fr-sync-valid.txt'\n",
    "}\n",
    "\n",
    "words = {\n",
    "    'en': ['university', 'love', 'history', 'government', 'holiday', 'conference'],\n",
    "    'fr': ['universidad', 'amor', 'historia', 'gouvernement',  'vacances', u'conférence']\n",
    "}\n",
    "\n",
    "analyze_embeddings(vocab_paths, words, analyzer_path='/home/patrik/GitHub/nmt-BMEVIAUAL01/pca-analyzer', dim=2)"
   ]
  },
  {
   "cell_type": "code",
   "execution_count": null,
   "metadata": {},
   "outputs": [],
   "source": []
  }
 ],
 "metadata": {
  "kernelspec": {
   "display_name": "Python 3",
   "language": "python",
   "name": "python3"
  },
  "language_info": {
   "codemirror_mode": {
    "name": "ipython",
    "version": 3
   },
   "file_extension": ".py",
   "mimetype": "text/x-python",
   "name": "python",
   "nbconvert_exporter": "python",
   "pygments_lexer": "ipython3",
   "version": "3.6.5"
  }
 },
 "nbformat": 4,
 "nbformat_minor": 2
}
